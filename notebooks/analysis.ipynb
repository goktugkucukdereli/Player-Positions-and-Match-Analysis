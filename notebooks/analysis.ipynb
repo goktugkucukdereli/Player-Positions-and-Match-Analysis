{
 "cells": [
  {
   "cell_type": "markdown",
   "metadata": {},
   "source": [
    "## 1. Giriş\n",
    "# Bu notebook, futbol maçından alınan oyuncu pozisyonları, pas analizleri, hedefe yakınlık ve \n",
    "# zaman bazlı hareket verilerinin analiz edilmesi ve görselleştirilmesi için oluşturulmuştur.\n",
    "\n",
    "import pandas as pd\n",
    "import matplotlib.pyplot as plt\n",
    "from mplsoccer import Pitch"
   ]
  },
  {
   "cell_type": "markdown",
   "metadata": {},
   "source": [
    "# 2. Veri Yükleme\n",
    "\n",
    "# CSV dosyalarını yükle\n",
    "positions = pd.read_csv(\"../data/output/player_positions.csv\")\n",
    "passes = pd.read_csv(\"../data/output/pass_frequencies.csv\")\n",
    "\n",
    "# İlk birkaç satırı incele\n",
    "print(\"Oyuncu Pozisyonları:\")\n",
    "display(positions.head())\n",
    "print(\"\\nPas Frekansları:\")\n",
    "display(passes.head())\n",
    "\n",
    "# Veri tipi ve eksik veri kontrolü\n",
    "print(\"\\nPozisyon Verisi Bilgisi:\")\n",
    "positions.info()\n",
    "\n",
    "print(\"\\nEksik Veriler:\")\n",
    "print(positions.isnull().sum())"
   ]
  },
  {
   "cell_type": "code",
   "execution_count": null,
   "metadata": {
    "vscode": {
     "languageId": "plaintext"
    }
   },
   "outputs": [],
   "source": [
    "# 3. Oyuncu Pozisyonları Görselleştirme\n",
    "\n",
    "# Örnek bir oyuncunun pozisyonlarını görselleştirme\n",
    "pitch = Pitch(pitch_type=\"statsbomb\", pitch_color=\"grass\", line_color=\"white\")\n",
    "fig, ax = pitch.draw()\n",
    "\n",
    "player_positions = positions[positions[\"Player_ID\"] == 10]  # Örnek oyuncu ID'si\n",
    "x = player_positions[\"X\"] * 100\n",
    "y = player_positions[\"Y\"] * 100\n",
    "\n",
    "pitch.scatter(x, y, ax=ax, s=100, c=\"blue\", alpha=0.7, label=\"Player 10\")\n",
    "ax.legend()\n",
    "plt.title(\"Oyuncu 10 Pozisyonları\", fontsize=16)\n",
    "plt.show()"
   ]
  },
  {
   "cell_type": "code",
   "execution_count": null,
   "metadata": {
    "vscode": {
     "languageId": "plaintext"
    }
   },
   "outputs": [],
   "source": [
    "# 4. Pas Analizi\n",
    "\n",
    "# Pas ağı oluşturma\n",
    "from src.player_pass_analysis import analyze_player_passes\n",
    "\n",
    "analyze_player_passes(player_id=10)  # Örnek oyuncunun pas analizi"
   ]
  },
  {
   "cell_type": "code",
   "execution_count": null,
   "metadata": {
    "vscode": {
     "languageId": "plaintext"
    }
   },
   "outputs": [],
   "source": [
    "# 5. Takım Bazlı Analizler\n",
    "\n",
    "# Takım A ve Takım B'nin ısı haritası\n",
    "from src.team_based_analysis import perform_team_based_analysis\n",
    "\n",
    "perform_team_based_analysis()"
   ]
  },
  {
   "cell_type": "code",
   "execution_count": null,
   "metadata": {
    "vscode": {
     "languageId": "plaintext"
    }
   },
   "outputs": [],
   "source": [
    "# 6. Zaman Bazlı Hareket Analizi\n",
    "\n",
    "# Oyuncuların zaman bazlı hareketlerini analiz etme\n",
    "from src.time_based_analysis import perform_time_based_analysis\n",
    "\n",
    "perform_time_based_analysis()"
   ]
  },
  {
   "cell_type": "code",
   "execution_count": null,
   "metadata": {
    "vscode": {
     "languageId": "plaintext"
    }
   },
   "outputs": [],
   "source": [
    "# 7. Hedefe Yakınlık Analizi\n",
    "\n",
    "# Oyuncuların ve topun kaleye yakınlık analizi\n",
    "from src.goal_proximity_analysis import analyze_proximity_to_goal\n",
    "\n",
    "analyze_proximity_to_goal()"
   ]
  },
  {
   "cell_type": "code",
   "execution_count": null,
   "metadata": {
    "vscode": {
     "languageId": "plaintext"
    }
   },
   "outputs": [],
   "source": [
    "# 8. Gelişmiş Veri Modelleme\n",
    "\n",
    "# Oyuncu rollerini ve stratejileri belirlemek için veri modelleme\n",
    "from src.advanced_modeling import perform_advanced_modeling\n",
    "\n",
    "perform_advanced_modeling()"
   ]
  },
  {
   "cell_type": "code",
   "execution_count": null,
   "metadata": {
    "vscode": {
     "languageId": "plaintext"
    }
   },
   "outputs": [],
   "source": [
    "# 9. Video Analizi ile Entegrasyon\n",
    "\n",
    "# Analizlerin videoya entegre edilmesi\n",
    "from src.video_integration import integrate_video_analysis\n",
    "\n",
    "integrate_video_analysis()\n"
   ]
  }
 ],
 "metadata": {
  "language_info": {
   "name": "python"
  }
 },
 "nbformat": 4,
 "nbformat_minor": 2
}
